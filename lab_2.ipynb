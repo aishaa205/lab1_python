{
 "cells": [
  {
   "cell_type": "code",
   "execution_count": 1,
   "metadata": {},
   "outputs": [
    {
     "data": {
      "text/plain": [
       "15"
      ]
     },
     "execution_count": 1,
     "metadata": {},
     "output_type": "execute_result"
    }
   ],
   "source": [
    "# Question 1 :\n",
    "# Write a simple calculator program using match to perform addition, subtraction, multiplication, and division.\n",
    "# operation = \"add\"\n",
    "# a, b = 10, 5\n",
    "# # Expected Output: 15\n",
    "\n",
    "def calculator(operation,a,b):\n",
    "    match operation:\n",
    "        case \"add\":\n",
    "            return a+b\n",
    "        case \"sub\":\n",
    "            return a-b\n",
    "        case \"mul\":\n",
    "            return a*b\n",
    "        case \"div\":\n",
    "            return a/b  \n",
    "\n",
    "calculator(\"add\",10,5)\n"
   ]
  },
  {
   "cell_type": "code",
   "execution_count": 4,
   "metadata": {},
   "outputs": [
    {
     "name": "stdout",
     "output_type": "stream",
     "text": [
      "[1, 3, 5, 7, 9]\n",
      "Count = 5\n"
     ]
    }
   ],
   "source": [
    "# Question 2 :\n",
    "# Write a program to filter out even numbers from a list and count how many are left.\n",
    "# numbers = [1, 2, 3, 4, 5, 6, 7, 8, 9, 10]\n",
    "# # Expected Output: [1, 3, 5, 7, 9], Count = 5\n",
    "\n",
    "numbers = [1, 2, 3, 4, 5, 6, 7, 8, 9, 10]\n",
    "count=0\n",
    "for i in numbers:    \n",
    "    if i%2==0:\n",
    "      numbers.remove(i)\n",
    "      count+=1\n",
    "        \n",
    "print(numbers)\n",
    "print(f\"Count = {count}\")\n",
    "\n",
    "\n",
    "\n",
    "\n",
    "\n",
    "\n"
   ]
  },
  {
   "cell_type": "code",
   "execution_count": 8,
   "metadata": {},
   "outputs": [
    {
     "name": "stdout",
     "output_type": "stream",
     "text": [
      "Valid Password\n"
     ]
    }
   ],
   "source": [
    "\n",
    "# Question 3 :\n",
    "# Write a program to check if a password meets the following criteria:\n",
    "# - At least 8 characters long.\n",
    "# - Contains at least one uppercase letter.\n",
    "# - Contains at least one digit.\n",
    "# password = \"Pass1234\"\n",
    "# # Expected Output: \"Valid Password\"\n",
    "\n",
    "#input_password=input(\"Enter Password : \")\n",
    "input_password=\"Pass1234\"\n",
    "if len(input_password)<8:\n",
    "    print(\"Short Password\")\n",
    "else:\n",
    "    count=0\n",
    "    for i in input_password:\n",
    "        if i.isupper():\n",
    "            count+=1\n",
    "    if count==0:\n",
    "        print(\"Password Should Contain Uppercase\")\n",
    "    else:\n",
    "        count=0\n",
    "        for i in input_password:\n",
    "            if i.isdigit():\n",
    "                count+=1\n",
    "        if count==0:\n",
    "            print(\"Password Should Contain Digits\")\n",
    "        else:\n",
    "            print(\"Valid Password\")\n",
    "\n"
   ]
  },
  {
   "cell_type": "code",
   "execution_count": 9,
   "metadata": {},
   "outputs": [
    {
     "name": "stdout",
     "output_type": "stream",
     "text": [
      "{1: 10, 2: 20, 3: 30, 4: 40, 5: 50, 6: 60}\n"
     ]
    }
   ],
   "source": [
    "# Question 4: \n",
    "# Write a Python script to concatenate the following dictionaries to create a new one.\n",
    "# Sample Dictionary :\n",
    "# dic1={1:10, 2:20}\n",
    "# dic2={3:30, 4:40}\n",
    "# dic3={5:50,6:60}\n",
    "# Expected Result : {1: 10, 2: 20, 3: 30, 4: 40, 5: 50, 6: 60}\n",
    "\n",
    "dic1={1:10, 2:20}\n",
    "dic2={3:30, 4:40}\n",
    "dic3={5:50,6:60}\n",
    "\n",
    "dic1.update(dic2)\n",
    "dic1.update(dic3)\n",
    "print(dic1)"
   ]
  },
  {
   "cell_type": "code",
   "execution_count": 12,
   "metadata": {},
   "outputs": [
    {
     "name": "stdout",
     "output_type": "stream",
     "text": [
      "Longest substring in alphabetical order is: abdu\n"
     ]
    }
   ],
   "source": [
    "# Question 5: \n",
    "# takes a string and prints the longest\n",
    "# alphabetical ordered substring occured.\n",
    "# For example, if the string is 'abdulrahman' then the output is:\n",
    "# Longest substring in alphabetical order is: abdu\n",
    "\n",
    "s = \"abdulrahman\"\n",
    "\n",
    "longest = s[0]\n",
    "current = s[0]\n",
    "\n",
    "for i in range(1, len(s)):\n",
    "    if s[i] >= current[-1]: \n",
    "        current += s[i]\n",
    "        if len(current) > len(longest):\n",
    "            longest = current\n",
    "    else:\n",
    "        current = s[i]\n",
    "\n",
    "print(f\"Longest substring in alphabetical order is: {longest}\")\n"
   ]
  },
  {
   "cell_type": "code",
   "execution_count": 15,
   "metadata": {},
   "outputs": [
    {
     "name": "stdout",
     "output_type": "stream",
     "text": [
      "Valid email address\n"
     ]
    }
   ],
   "source": [
    "# Question 6:\n",
    "# Write a program to check if a Email meets the following criteria:\n",
    "# - Ensures the email follows a standard format (e.g., local@domain.com).\n",
    "# - Does not check if the email actually exists or is deliverable.\n",
    "\n",
    "email =\"aigV9@example.com\"\n",
    "\n",
    "if \"@\" in email and \".\" in email:\n",
    "    at_pos = email.find(\"@\")\n",
    "    dot_pos = email.rfind(\".\")\n",
    "    \n",
    "    if 0 < at_pos < dot_pos < len(email) - 1:\n",
    "        print(\"Valid email address\")\n",
    "    else:\n",
    "        print(\"Invalid email address\")\n",
    "else:\n",
    "    print(\"Invalid email address\")"
   ]
  }
 ],
 "metadata": {
  "kernelspec": {
   "display_name": "base",
   "language": "python",
   "name": "python3"
  },
  "language_info": {
   "codemirror_mode": {
    "name": "ipython",
    "version": 3
   },
   "file_extension": ".py",
   "mimetype": "text/x-python",
   "name": "python",
   "nbconvert_exporter": "python",
   "pygments_lexer": "ipython3",
   "version": "3.11.5"
  }
 },
 "nbformat": 4,
 "nbformat_minor": 2
}
