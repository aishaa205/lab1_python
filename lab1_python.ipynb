{
 "cells": [
  {
   "cell_type": "code",
   "execution_count": null,
   "metadata": {},
   "outputs": [
    {
     "name": "stdout",
     "output_type": "stream",
     "text": [
      "[10, 30, 20, 40, 50]\n"
     ]
    }
   ],
   "source": [
    "#Aisha \n",
    "# Question 1\n",
    "# a = [10, 20, 30, 20, 40, 50]\n",
    "# Remove the first occurance of 20\n",
    "\n",
    "a = [10, 20, 30, 20, 40, 50]\n",
    "\n",
    "if 20 in a:\n",
    "    a.remove(20)\n",
    "\n",
    "print(a)\n",
    "\n"
   ]
  },
  {
   "cell_type": "code",
   "execution_count": 14,
   "metadata": {},
   "outputs": [
    {
     "name": "stdout",
     "output_type": "stream",
     "text": [
      "10\n",
      "[20, 30, 20, 40, 50]\n"
     ]
    }
   ],
   "source": [
    "# Question 2\n",
    "# Remove element at index 1 and return its value in val\n",
    "a = [10, 20, 30, 20, 40, 50]\n",
    "val = a[0]\n",
    "a.remove(val)\n",
    "print(val)\n",
    "print(a)\n",
    "\n"
   ]
  },
  {
   "cell_type": "code",
   "execution_count": 25,
   "metadata": {},
   "outputs": [
    {
     "name": "stdout",
     "output_type": "stream",
     "text": [
      "[10, 20, 30, 40, 50, 60, 70]\n"
     ]
    }
   ],
   "source": [
    "# Question 3\n",
    "# a = [10, 20, 30, 40, 50, 60, 70]\n",
    "# Removes elements from index 1 to index 3 (which are 20, 30, 40)\n",
    "\n",
    "b = [10, 20, 30, 40, 50, 60, 70]\n",
    "\n",
    "\n",
    "\n",
    "for i in range(1,4):    \n",
    "  if i in b:\n",
    "    b.remove(i) \n",
    "\n",
    "print(b)\n",
    "\n"
   ]
  },
  {
   "cell_type": "code",
   "execution_count": 26,
   "metadata": {},
   "outputs": [
    {
     "name": "stdout",
     "output_type": "stream",
     "text": [
      "[]\n"
     ]
    }
   ],
   "source": [
    "# Question 4\n",
    "# a = [10, 20, 30, 40, 50, 60, 70]\n",
    "# Remove all elements\n",
    "del a[:]\n",
    "print(a)"
   ]
  },
  {
   "cell_type": "code",
   "execution_count": 27,
   "metadata": {},
   "outputs": [
    {
     "name": "stdout",
     "output_type": "stream",
     "text": [
      "4\n"
     ]
    }
   ],
   "source": [
    "# Write a program that prints the number of times the substring 'iti' occurs in a string\n",
    "text =\"iti is the best , iti is iti , iti is the best\"\n",
    "print(text.count(\"iti\"))\n"
   ]
  },
  {
   "cell_type": "code",
   "execution_count": 29,
   "metadata": {},
   "outputs": [
    {
     "name": "stdout",
     "output_type": "stream",
     "text": [
      "0101\n",
      "5\n"
     ]
    }
   ],
   "source": [
    "#application to take a number in binary form from the user, and print it as a decimal\n",
    "\n",
    "user_input = input(\"Enter number in binary \")\n",
    "print(user_input)\n",
    "print(int(user_input,2))\n"
   ]
  },
  {
   "cell_type": "code",
   "execution_count": 30,
   "metadata": {},
   "outputs": [
    {
     "name": "stdout",
     "output_type": "stream",
     "text": [
      "Buzz\n"
     ]
    }
   ],
   "source": [
    "# write a code take a number as an argument and if the number divisible by 3 return \"Fizz\" \n",
    "#and if it is divisible by 5 return \"buzz\" and if is is divisible by both return \"FizzBuzz\"\n",
    "\n",
    "number = int(input(\"Enter a number: \"))\n",
    "\n",
    "if number % 3 == 0 and number % 5 == 0:\n",
    "    print(\"FizzBuzz\")\n",
    "elif number % 3 == 0:\n",
    "    print(\"Fizz\")\n",
    "elif number % 5 == 0:\n",
    "    print(\"Buzz\")   "
   ]
  },
  {
   "cell_type": "code",
   "execution_count": 31,
   "metadata": {},
   "outputs": [
    {
     "name": "stdout",
     "output_type": "stream",
     "text": [
      "The area of the circle is: 50.24\n",
      "The circumference of the circle is: 25.12\n"
     ]
    }
   ],
   "source": [
    "# Ask the user to enter the radius of a circle print its calculated area and circumference\n",
    "\n",
    "radius = float(input(\"Enter the radius of a circle: \"))\n",
    "area = 3.14 * radius**2\n",
    "circumference = 2 * 3.14 * radius\n",
    "print(f\"The area of the circle is: {area}\")\n",
    "print(f\"The circumference of the circle is: {circumference}\")"
   ]
  },
  {
   "cell_type": "code",
   "execution_count": 32,
   "metadata": {},
   "outputs": [
    {
     "name": "stdout",
     "output_type": "stream",
     "text": [
      "Name: aisha \n",
      "Email: aishaamr54@gmail.com\n"
     ]
    }
   ],
   "source": [
    "# Ask the user for his name then confirm that he has entered his name (not an empty string/integers).\n",
    "# then proceed to ask him for his email and print all this data\n",
    "\n",
    "name = input(\"Enter your name: \")\n",
    "email = input(\"Enter your email: \")\n",
    "\n",
    "if name and email:\n",
    "    print(f\"Name: {name}\")\n",
    "    print(f\"Email: {email}\")"
   ]
  },
  {
   "cell_type": "code",
   "execution_count": null,
   "metadata": {},
   "outputs": [],
   "source": []
  },
  {
   "cell_type": "code",
   "execution_count": null,
   "metadata": {},
   "outputs": [],
   "source": []
  }
 ],
 "metadata": {
  "kernelspec": {
   "display_name": "base",
   "language": "python",
   "name": "python3"
  },
  "language_info": {
   "codemirror_mode": {
    "name": "ipython",
    "version": 3
   },
   "file_extension": ".py",
   "mimetype": "text/x-python",
   "name": "python",
   "nbconvert_exporter": "python",
   "pygments_lexer": "ipython3",
   "version": "3.11.5"
  }
 },
 "nbformat": 4,
 "nbformat_minor": 2
}
